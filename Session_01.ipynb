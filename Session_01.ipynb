{
 "cells": [
  {
   "cell_type": "markdown",
   "metadata": {},
   "source": [
    "# 11.S188 / 11.S952 Hack the City: Applied Data Science for Public Good\n",
    "\n",
    "## Hacking Excercise 1: Environment Set-up\n",
    "\n",
    "\n",
    "## 1. Anaconda Distribution\n",
    "The open-source Anaconda Distribution is the easiest way to perform Python/R data science and machine learning on Linux, Windows, and Mac OS. \n",
    "\n",
    "- Step 1: Use the this link https://www.anaconda.com/distribution/ to download the __Python 2.7 version__ of Anaconda 2.\n",
    "\n",
    "- Step 2: After successfully downloaded Anaconda Distribution. Run Anaconda Navigator, then you will see a main menu of the Navigator with 4 items:\n",
    "    - __Home__: This window shows all current coding environment / application,  such as Jupyter Notebook, JupyterLab, Spyder, RStudio, and among others. If the application is pre-installed, you can directly launch it by clicking \"Launch\" button. Otherwise, you will need to Install first before launching. You can also choose which version of the application to install by clicking the small gear icon on the upper-right corner of each application.   \n",
    "    - __Environments__: This window shows all current settings of your Python environemnt. We will explain more in Step 3. \n",
    "    \n",
    "    - __Learning__: Anaconda Navigator provides rich learning resources including library documentations, tutorials, and technical reference. You can learn more in-depth specifications  here.\n",
    "    \n",
    "    - __Community__: Python community is huge and diverse. Here you can find various forums, online interest groups, and blogs to communicate and engage with others.  \n",
    "\n",
    "- Step 3: Go to __Environment__, this window provides a list of all installed libraries and their current version. This is your central place to install new libraries or upgrade installed ones to a newer version.\n",
    "\n",
    "- Step 4: Go to __Home__, launch [Jupyter Notebook](https://jupyter.org), a web-based interactive computing notebook environment. A new window should pop up on your browser showing your [home directry](http://www.linfo.org/home_directory.html). You now can 1) navigate through your file directories; 2) create new folder, add, delete, or rename files; 3) create new Jupyter Notebooks.\n",
    "\n",
    "\n",
    "## 2. Python Packages\n",
    "\n",
    "\n",
    "You can find a comprehensive Python Package Index here: https://pypi.org\n",
    "\n",
    "\n",
    "\n",
    "\n",
    "### 2.1 Pandas \n",
    "[Pandas](https://pandas.pydata.org) (Python Data Analysis Library) is a open source package widely used for [data munding and wrangling](https://en.wikipedia.org/wiki/Data_wrangling). Some major functions include:\n",
    "\n",
    "- Reading and writing data in vaious formats;\n",
    "- Data manupulation including reshaping, pivoting, slicing, indexing, and subsetting large datasets.\n",
    "- Data merging and joining;\n",
    "- Data cleaning, such as hanlding missing value or replacing value;\n",
    "- Basic analysis tools for descriptive summary and time-series analysis.\n",
    "\n",
    "Pandas is popular in a wide variety of academic and commercial domains, including Finance, Neuroscience, Economics, Statistics, Advertising, Web Analytics, and more. This tutorial guides you some basic Pandas techniques. Below is a 10 minutes [quick overview](https://www.youtube.com/watch?v=_T8LGqJtuGc&feature=emb_title) of Pandas by the creator Wes McKinney."
   ]
  },
  {
   "cell_type": "code",
   "execution_count": 1,
   "metadata": {
    "scrolled": false
   },
   "outputs": [
    {
     "data": {
      "text/html": [
       "\n",
       "        <iframe\n",
       "            width=\"650\"\n",
       "            height=\"400\"\n",
       "            src=\"https://www.youtube.com/embed/_T8LGqJtuGc?rel=0&amp;controls=0&amp;showinfo=0\"\n",
       "            frameborder=\"0\"\n",
       "            allowfullscreen\n",
       "        ></iframe>\n",
       "        "
      ],
      "text/plain": [
       "<IPython.lib.display.IFrame at 0x10641b128>"
      ]
     },
     "execution_count": 1,
     "metadata": {},
     "output_type": "execute_result"
    }
   ],
   "source": [
    "from IPython.display import IFrame\n",
    "IFrame(width=\"650\", height=\"400\", src=\"https://www.youtube.com/embed/_T8LGqJtuGc?rel=0&amp;controls=0&amp;showinfo=0\")"
   ]
  },
  {
   "cell_type": "markdown",
   "metadata": {},
   "source": [
    "<font color='orange'>__Import a package:__</font> You need to import a package into the your Jupyter Notebook to enable its modules. You can use \"import\" to load any package and use its name (e.g. pandas). For convenience, you can also use \"import ... as ...\" to import a package and name it with an abbreviation. \n",
    "\n",
    "A common example is importing pandas as \"pd\" (see demo below).\n",
    "\n",
    "### Loading datasets using Pandas:\n",
    "You can use padans to load various data formats including csv (comma-separated values) or text files [(pd.read_csv)](https://pandas.pydata.org/pandas-docs/stable/reference/api/pandas.read_csv.html), Microsoft Excel files [(pandas.read_excel)](https://pandas.pydata.org/pandas-docs/stable/reference/api/pandas.read_excel.html), and even SQL database [(pandas.read_sql_table)](https://pandas.pydata.org/pandas-docs/stable/reference/api/pandas.read_sql_table.html#pandas.read_sql_table).\n",
    "\n",
    "\n",
    "\n",
    "### Tabular dataset example: Energy consumption and GHG emissions of MIT Buildings\n",
    "\n",
    "In 2014, the City of Cambridge passed a local ordinance on building energy use disclosure. \n",
    "\n",
    "You can know more about this ordinance [here](https://www.buildingrating.org/policy/cambridges-building-energy-use-disclosure-ordinance-no-1360)."
   ]
  },
  {
   "cell_type": "code",
   "execution_count": 2,
   "metadata": {},
   "outputs": [
    {
     "name": "stdout",
     "output_type": "stream",
     "text": [
      "Index(['Reporting Year', 'Building ID', 'MapLot', 'Year Added',\n",
      "       'Annual Report Received', 'Report Type', 'Buildings Included',\n",
      "       'Parent Building ID', 'Assessor Address', 'Address Point GIS',\n",
      "       'Grantee', 'Property Type', 'Year Built',\n",
      "       'Property GFA - Self Reported (ft2)',\n",
      "       'Total GHG Emissions (Metric Tons CO2e)',\n",
      "       'Water Use (All Water Sources) (kgal)'],\n",
      "      dtype='object')\n"
     ]
    }
   ],
   "source": [
    "import pandas as pd\n",
    "\n",
    "## Load csv dataset:\n",
    "df = pd.read_csv('MIT_Building_Energy_and_Water_Use_Data_Disclosure_2016-2018_clean.csv')\n",
    "\n",
    "## Print all column names:\n",
    "print (df.columns)"
   ]
  },
  {
   "cell_type": "code",
   "execution_count": 3,
   "metadata": {},
   "outputs": [
    {
     "name": "stdout",
     "output_type": "stream",
     "text": [
      "14558.7\n"
     ]
    }
   ],
   "source": [
    "## Use the Column Access [ ] and Python built-in functions to get the following information:\n",
    "## What is the larget GHG emissions?\n",
    "GHG_max = df['Total GHG Emissions (Metric Tons CO2e)'].max()\n",
    "print (GHG_max)"
   ]
  },
  {
   "cell_type": "code",
   "execution_count": 4,
   "metadata": {},
   "outputs": [],
   "source": [
    "### TODO\n",
    "## Can you find out which building is the largest GHG emission producer?\n",
    "\n",
    "## Which is the oldest MIT building?\n",
    "\n",
    "## Which building consume least water?"
   ]
  },
  {
   "cell_type": "code",
   "execution_count": 5,
   "metadata": {},
   "outputs": [
    {
     "name": "stdout",
     "output_type": "stream",
     "text": [
      "0.06297356479527226\n"
     ]
    }
   ],
   "source": [
    "## Calculate the Total GHG emission intensity, by dividing total GHG emissions by total GFA (gross floor area):\n",
    "df['Total_GHG_Emissions_Intensity_(kgCO2e/ft2)'] = df['Total GHG Emissions (Metric Tons CO2e)']/df['Property GFA - Self Reported (ft2)']\n",
    "\n",
    "print (df['Total_GHG_Emissions_Intensity_(kgCO2e/ft2)'].max())\n",
    "### TODO\n",
    "## Which building has the most intensit GHG emission in MIT?\n",
    "\n",
    "## Calculate the average water use intensity (kgal/ft2):\n",
    "df['Water_Intensity_(kgal/ft2)'] = df['Water Use (All Water Sources) (kgal)']/df['Property GFA - Self Reported (ft2)']"
   ]
  },
  {
   "cell_type": "code",
   "execution_count": 6,
   "metadata": {},
   "outputs": [
    {
     "data": {
      "text/plain": [
       "Reporting Year                                                                 2018\n",
       "Building ID                                                                   680-2\n",
       "MapLot                                                                        47-85\n",
       "Year Added                                                                     2015\n",
       "Annual Report Received                                                          Yes\n",
       "Report Type                                                                  Single\n",
       "Buildings Included                                                              NaN\n",
       "Parent Building ID                                                              NaN\n",
       "Assessor Address                                                    84 Wadsworth St\n",
       "Address Point GIS                                    60 Wadsworth St\\nCambridge, MA\n",
       "Grantee                                       Massachusetts Institute Of Technology\n",
       "Property Type                                                    College/University\n",
       "Year Built                                                                     1967\n",
       "Property GFA - Self Reported (ft2)                                           172359\n",
       "Total GHG Emissions (Metric Tons CO2e)                                          977\n",
       "Water Use (All Water Sources) (kgal)                                         4896.7\n",
       "Total_GHG_Emissions_Intensity_(kgCO2e/ft2)                                0.0056684\n",
       "Water_Intensity_(kgal/ft2)                                                0.0284099\n",
       "Name: 0, dtype: object"
      ]
     },
     "execution_count": 6,
     "metadata": {},
     "output_type": "execute_result"
    }
   ],
   "source": [
    "# Row access using loc:\n",
    "df.loc[0]"
   ]
  },
  {
   "cell_type": "code",
   "execution_count": 7,
   "metadata": {
    "scrolled": false
   },
   "outputs": [
    {
     "data": {
      "text/html": [
       "<div>\n",
       "<style scoped>\n",
       "    .dataframe tbody tr th:only-of-type {\n",
       "        vertical-align: middle;\n",
       "    }\n",
       "\n",
       "    .dataframe tbody tr th {\n",
       "        vertical-align: top;\n",
       "    }\n",
       "\n",
       "    .dataframe thead th {\n",
       "        text-align: right;\n",
       "    }\n",
       "</style>\n",
       "<table border=\"1\" class=\"dataframe\">\n",
       "  <thead>\n",
       "    <tr style=\"text-align: right;\">\n",
       "      <th></th>\n",
       "      <th>Reporting Year</th>\n",
       "      <th>Building ID</th>\n",
       "      <th>MapLot</th>\n",
       "      <th>Year Added</th>\n",
       "      <th>Annual Report Received</th>\n",
       "      <th>Report Type</th>\n",
       "      <th>Buildings Included</th>\n",
       "      <th>Parent Building ID</th>\n",
       "      <th>Assessor Address</th>\n",
       "      <th>Address Point GIS</th>\n",
       "      <th>Grantee</th>\n",
       "      <th>Property Type</th>\n",
       "      <th>Year Built</th>\n",
       "      <th>Property GFA - Self Reported (ft2)</th>\n",
       "      <th>Total GHG Emissions (Metric Tons CO2e)</th>\n",
       "      <th>Water Use (All Water Sources) (kgal)</th>\n",
       "      <th>Total_GHG_Emissions_Intensity_(kgCO2e/ft2)</th>\n",
       "      <th>Water_Intensity_(kgal/ft2)</th>\n",
       "    </tr>\n",
       "  </thead>\n",
       "  <tbody>\n",
       "    <tr>\n",
       "      <th>1</th>\n",
       "      <td>2018</td>\n",
       "      <td>662-7</td>\n",
       "      <td>69-62</td>\n",
       "      <td>2015</td>\n",
       "      <td>Yes</td>\n",
       "      <td>Parent</td>\n",
       "      <td>662-7, 662-11</td>\n",
       "      <td>NaN</td>\n",
       "      <td>20 Sidney St</td>\n",
       "      <td>20 Sidney St\\nCambridge, MA</td>\n",
       "      <td>Massachusetts Institute Of Technology</td>\n",
       "      <td>Supermarket/Grocery Store</td>\n",
       "      <td>1999.0</td>\n",
       "      <td>42419.0</td>\n",
       "      <td>811.2</td>\n",
       "      <td>1086.0</td>\n",
       "      <td>0.019124</td>\n",
       "      <td>0.025602</td>\n",
       "    </tr>\n",
       "    <tr>\n",
       "      <th>2</th>\n",
       "      <td>2018</td>\n",
       "      <td>665-4</td>\n",
       "      <td>92-124</td>\n",
       "      <td>2015</td>\n",
       "      <td>Yes</td>\n",
       "      <td>Single</td>\n",
       "      <td>NaN</td>\n",
       "      <td>NaN</td>\n",
       "      <td>88 Auburn Pk</td>\n",
       "      <td>70 Brookline St\\nCambridge, MA</td>\n",
       "      <td>Massachusetts Institute Of Technology</td>\n",
       "      <td>Multifamily Housing</td>\n",
       "      <td>2000.0</td>\n",
       "      <td>19156.0</td>\n",
       "      <td>78.4</td>\n",
       "      <td>799.8</td>\n",
       "      <td>0.004093</td>\n",
       "      <td>0.041752</td>\n",
       "    </tr>\n",
       "    <tr>\n",
       "      <th>3</th>\n",
       "      <td>2018</td>\n",
       "      <td>662-1</td>\n",
       "      <td>69-159</td>\n",
       "      <td>2015</td>\n",
       "      <td>No</td>\n",
       "      <td>Single</td>\n",
       "      <td>NaN</td>\n",
       "      <td>NaN</td>\n",
       "      <td>350 Massachusetts Ave</td>\n",
       "      <td>350 Massachusetts Ave\\nCambridge, MA</td>\n",
       "      <td>Massachusetts Institute Of Technology</td>\n",
       "      <td>NaN</td>\n",
       "      <td>NaN</td>\n",
       "      <td>NaN</td>\n",
       "      <td>NaN</td>\n",
       "      <td>NaN</td>\n",
       "      <td>NaN</td>\n",
       "      <td>NaN</td>\n",
       "    </tr>\n",
       "    <tr>\n",
       "      <th>4</th>\n",
       "      <td>2018</td>\n",
       "      <td>699-12</td>\n",
       "      <td>55-20</td>\n",
       "      <td>2016</td>\n",
       "      <td>Yes</td>\n",
       "      <td>Parent</td>\n",
       "      <td>699-12, 699-17</td>\n",
       "      <td>NaN</td>\n",
       "      <td>184 Albany St</td>\n",
       "      <td>184 Albany St\\nCambridge, MA</td>\n",
       "      <td>Massachusetts Institute Of Technology</td>\n",
       "      <td>College/University</td>\n",
       "      <td>1980.0</td>\n",
       "      <td>120137.0</td>\n",
       "      <td>1679.3</td>\n",
       "      <td>136.1</td>\n",
       "      <td>0.013978</td>\n",
       "      <td>0.001133</td>\n",
       "    </tr>\n",
       "    <tr>\n",
       "      <th>5</th>\n",
       "      <td>2018</td>\n",
       "      <td>708-12</td>\n",
       "      <td>57-171</td>\n",
       "      <td>2015</td>\n",
       "      <td>Yes</td>\n",
       "      <td>Single</td>\n",
       "      <td>NaN</td>\n",
       "      <td>NaN</td>\n",
       "      <td>106 Vassar St</td>\n",
       "      <td>48-R Massachusetts Ave\\nCambridge, MA</td>\n",
       "      <td>Massachusetts Institute Of Technology</td>\n",
       "      <td>College/University</td>\n",
       "      <td>1955.0</td>\n",
       "      <td>5339.0</td>\n",
       "      <td>99.3</td>\n",
       "      <td>15.7</td>\n",
       "      <td>0.018599</td>\n",
       "      <td>0.002941</td>\n",
       "    </tr>\n",
       "  </tbody>\n",
       "</table>\n",
       "</div>"
      ],
      "text/plain": [
       "   Reporting Year Building ID  MapLot  Year Added Annual Report Received  \\\n",
       "1            2018       662-7   69-62        2015                    Yes   \n",
       "2            2018       665-4  92-124        2015                    Yes   \n",
       "3            2018       662-1  69-159        2015                     No   \n",
       "4            2018      699-12   55-20        2016                    Yes   \n",
       "5            2018      708-12  57-171        2015                    Yes   \n",
       "\n",
       "  Report Type Buildings Included  Parent Building ID       Assessor Address  \\\n",
       "1      Parent      662-7, 662-11                 NaN           20 Sidney St   \n",
       "2      Single                NaN                 NaN           88 Auburn Pk   \n",
       "3      Single                NaN                 NaN  350 Massachusetts Ave   \n",
       "4      Parent     699-12, 699-17                 NaN          184 Albany St   \n",
       "5      Single                NaN                 NaN          106 Vassar St   \n",
       "\n",
       "                       Address Point GIS  \\\n",
       "1            20 Sidney St\\nCambridge, MA   \n",
       "2         70 Brookline St\\nCambridge, MA   \n",
       "3   350 Massachusetts Ave\\nCambridge, MA   \n",
       "4           184 Albany St\\nCambridge, MA   \n",
       "5  48-R Massachusetts Ave\\nCambridge, MA   \n",
       "\n",
       "                                 Grantee              Property Type  \\\n",
       "1  Massachusetts Institute Of Technology  Supermarket/Grocery Store   \n",
       "2  Massachusetts Institute Of Technology        Multifamily Housing   \n",
       "3  Massachusetts Institute Of Technology                        NaN   \n",
       "4  Massachusetts Institute Of Technology         College/University   \n",
       "5  Massachusetts Institute Of Technology         College/University   \n",
       "\n",
       "   Year Built  Property GFA - Self Reported (ft2)  \\\n",
       "1      1999.0                             42419.0   \n",
       "2      2000.0                             19156.0   \n",
       "3         NaN                                 NaN   \n",
       "4      1980.0                            120137.0   \n",
       "5      1955.0                              5339.0   \n",
       "\n",
       "   Total GHG Emissions (Metric Tons CO2e)  \\\n",
       "1                                   811.2   \n",
       "2                                    78.4   \n",
       "3                                     NaN   \n",
       "4                                  1679.3   \n",
       "5                                    99.3   \n",
       "\n",
       "   Water Use (All Water Sources) (kgal)  \\\n",
       "1                                1086.0   \n",
       "2                                 799.8   \n",
       "3                                   NaN   \n",
       "4                                 136.1   \n",
       "5                                  15.7   \n",
       "\n",
       "   Total_GHG_Emissions_Intensity_(kgCO2e/ft2)  Water_Intensity_(kgal/ft2)  \n",
       "1                                    0.019124                    0.025602  \n",
       "2                                    0.004093                    0.041752  \n",
       "3                                         NaN                         NaN  \n",
       "4                                    0.013978                    0.001133  \n",
       "5                                    0.018599                    0.002941  "
      ]
     },
     "execution_count": 7,
     "metadata": {},
     "output_type": "execute_result"
    }
   ],
   "source": [
    "# Multiple rows access using loc\n",
    "df.loc[1:5]"
   ]
  },
  {
   "cell_type": "code",
   "execution_count": 8,
   "metadata": {
    "scrolled": true
   },
   "outputs": [
    {
     "data": {
      "text/html": [
       "<div>\n",
       "<style scoped>\n",
       "    .dataframe tbody tr th:only-of-type {\n",
       "        vertical-align: middle;\n",
       "    }\n",
       "\n",
       "    .dataframe tbody tr th {\n",
       "        vertical-align: top;\n",
       "    }\n",
       "\n",
       "    .dataframe thead th {\n",
       "        text-align: right;\n",
       "    }\n",
       "</style>\n",
       "<table border=\"1\" class=\"dataframe\">\n",
       "  <thead>\n",
       "    <tr style=\"text-align: right;\">\n",
       "      <th></th>\n",
       "      <th>Building ID</th>\n",
       "      <th>Total GHG Emissions (Metric Tons CO2e)</th>\n",
       "    </tr>\n",
       "  </thead>\n",
       "  <tbody>\n",
       "    <tr>\n",
       "      <th>0</th>\n",
       "      <td>680-2</td>\n",
       "      <td>977.0</td>\n",
       "    </tr>\n",
       "    <tr>\n",
       "      <th>1</th>\n",
       "      <td>662-7</td>\n",
       "      <td>811.2</td>\n",
       "    </tr>\n",
       "    <tr>\n",
       "      <th>2</th>\n",
       "      <td>665-4</td>\n",
       "      <td>78.4</td>\n",
       "    </tr>\n",
       "    <tr>\n",
       "      <th>3</th>\n",
       "      <td>662-1</td>\n",
       "      <td>NaN</td>\n",
       "    </tr>\n",
       "    <tr>\n",
       "      <th>4</th>\n",
       "      <td>699-12</td>\n",
       "      <td>1679.3</td>\n",
       "    </tr>\n",
       "    <tr>\n",
       "      <th>5</th>\n",
       "      <td>708-12</td>\n",
       "      <td>99.3</td>\n",
       "    </tr>\n",
       "  </tbody>\n",
       "</table>\n",
       "</div>"
      ],
      "text/plain": [
       "  Building ID  Total GHG Emissions (Metric Tons CO2e)\n",
       "0       680-2                                   977.0\n",
       "1       662-7                                   811.2\n",
       "2       665-4                                    78.4\n",
       "3       662-1                                     NaN\n",
       "4      699-12                                  1679.3\n",
       "5      708-12                                    99.3"
      ]
     },
     "execution_count": 8,
     "metadata": {},
     "output_type": "execute_result"
    }
   ],
   "source": [
    "## Row and colmn access:\n",
    "row_list = range(6)\n",
    "\n",
    "df.loc[row_list, ['Building ID','Total GHG Emissions (Metric Tons CO2e)']]"
   ]
  },
  {
   "cell_type": "code",
   "execution_count": 9,
   "metadata": {},
   "outputs": [],
   "source": [
    "# Create a condition using comparators:\n",
    "year_2018 = df['Reporting Year']==2018\n",
    "\n",
    "# Create a subset by filtering Pandas DataFrame\n",
    "df_2018 = df[year_2018]"
   ]
  },
  {
   "cell_type": "code",
   "execution_count": 10,
   "metadata": {},
   "outputs": [],
   "source": [
    "# Pandas write data:\n",
    "df_2018.to_csv('MIT_Building_Energy_and_Water_Use_Data_Disclosure_2018.csv', index=False)"
   ]
  },
  {
   "cell_type": "markdown",
   "metadata": {},
   "source": [
    "### 2.2 Numpy\n",
    "\n",
    "[Numpy](https://docs.scipy.org/doc/numpy/reference/)"
   ]
  },
  {
   "cell_type": "code",
   "execution_count": 11,
   "metadata": {
    "scrolled": true
   },
   "outputs": [
    {
     "name": "stdout",
     "output_type": "stream",
     "text": [
      "[2016 2017 2018]\n"
     ]
    }
   ],
   "source": [
    "import numpy as np\n",
    "\n",
    "# You can use 'np.unique()' to check how many unique values in a column:\n",
    "print (np.unique(df['Reporting Year']))"
   ]
  },
  {
   "cell_type": "code",
   "execution_count": 12,
   "metadata": {},
   "outputs": [
    {
     "name": "stdout",
     "output_type": "stream",
     "text": [
      "1492.16525198939\n",
      "1999.8476086337412\n"
     ]
    }
   ],
   "source": [
    "# Use numpy to calculate mean\n",
    "print (np.mean(df['Total GHG Emissions (Metric Tons CO2e)']))\n",
    "\n",
    "# Use numpy to calculate standard deviation\n",
    "print (np.std(df['Total GHG Emissions (Metric Tons CO2e)']))"
   ]
  },
  {
   "cell_type": "code",
   "execution_count": 13,
   "metadata": {},
   "outputs": [],
   "source": [
    "### TODO\n",
    "## How many buildings (with an unique Building ID) reported in this dataset?"
   ]
  },
  {
   "cell_type": "markdown",
   "metadata": {},
   "source": [
    "# 3. GitHub\n",
    "\n",
    "[__GitHub__](https://github.com) is Git repository hosting service with a web-based graphical interface. You can upload your scripts (.py files), notebooks (.ipynb), and datasets on GitHub for saving your project, version control, and collaboration. \n",
    "\n",
    "__Why use GitHub?__ In May 2019, there are over 37 million users and more than 100 million repositories (including at least 28 million public repositories) on GitHub. This is the largest host of source code in the world. Besides students, coders, and researchers, many tech companies and industry professionals are active users of GitHub, including [Google](https://github.com/google), [Microsoft](https://github.com/microsoft), [Bloomberg](https://github.com/bloomberg), and [Facebook](https://github.com/facebook). There are also many governmental agencies, non-profit organizations, or community groups using GitHub to publish data, analysis, or open source software, such as [City of Boston](https://github.com/CityOfBoston) and [New York City Department of City Planning](https://github.com/NYCPlanning).\n",
    "\n",
    "\n",
    "\n",
    "Now you will register an account in GitHub and create your first repository.\n",
    "\n",
    "Watch this 3 minutes video on how to collaborate via GitHub:"
   ]
  },
  {
   "cell_type": "code",
   "execution_count": 14,
   "metadata": {},
   "outputs": [
    {
     "data": {
      "text/html": [
       "\n",
       "        <iframe\n",
       "            width=\"650\"\n",
       "            height=\"400\"\n",
       "            src=\"https://www.youtube.com/embed/w3jLJU7DT5E\"\n",
       "            frameborder=\"0\"\n",
       "            allowfullscreen\n",
       "        ></iframe>\n",
       "        "
      ],
      "text/plain": [
       "<IPython.lib.display.IFrame at 0x117fd1518>"
      ]
     },
     "execution_count": 14,
     "metadata": {},
     "output_type": "execute_result"
    }
   ],
   "source": [
    "IFrame(width=\"650\", height=\"400\", src=\"https://www.youtube.com/embed/w3jLJU7DT5E\")"
   ]
  },
  {
   "cell_type": "markdown",
   "metadata": {},
   "source": [
    "# 4. CARTO\n",
    "\n",
    "In this workshop, we will also explore several other open source tools. [CARTO](https://carto.com)"
   ]
  },
  {
   "cell_type": "code",
   "execution_count": 15,
   "metadata": {
    "scrolled": false
   },
   "outputs": [
    {
     "data": {
      "text/html": [
       "\n",
       "        <iframe\n",
       "            width=\"650\"\n",
       "            height=\"400\"\n",
       "            src=\"https://www.youtube.com/embed/4hoU2vNl6wE\"\n",
       "            frameborder=\"0\"\n",
       "            allowfullscreen\n",
       "        ></iframe>\n",
       "        "
      ],
      "text/plain": [
       "<IPython.lib.display.IFrame at 0x117fd1908>"
      ]
     },
     "execution_count": 15,
     "metadata": {},
     "output_type": "execute_result"
    }
   ],
   "source": [
    "IFrame(width=\"650\", height=\"400\", src=\"https://www.youtube.com/embed/4hoU2vNl6wE\")"
   ]
  },
  {
   "cell_type": "markdown",
   "metadata": {},
   "source": [
    "Using CARTO, we can easily create an interactive map to visualize building GHG emissions inensity in MIT."
   ]
  },
  {
   "cell_type": "code",
   "execution_count": 16,
   "metadata": {},
   "outputs": [
    {
     "data": {
      "text/html": [
       "\n",
       "        <iframe\n",
       "            width=\"650\"\n",
       "            height=\"400\"\n",
       "            src=\"https://yuanlai-dusp.carto.com/builder/1b1a4206-3529-4192-a435-9d49ebdbad78/embed\"\n",
       "            frameborder=\"0\"\n",
       "            allowfullscreen\n",
       "        ></iframe>\n",
       "        "
      ],
      "text/plain": [
       "<IPython.lib.display.IFrame at 0x117fd19e8>"
      ]
     },
     "execution_count": 16,
     "metadata": {},
     "output_type": "execute_result"
    }
   ],
   "source": [
    "IFrame(width=\"650\", height=\"400\", src=\"https://yuanlai-dusp.carto.com/builder/1b1a4206-3529-4192-a435-9d49ebdbad78/embed\")"
   ]
  }
 ],
 "metadata": {
  "kernelspec": {
   "display_name": "Python 3",
   "language": "python",
   "name": "python3"
  },
  "language_info": {
   "codemirror_mode": {
    "name": "ipython",
    "version": 3
   },
   "file_extension": ".py",
   "mimetype": "text/x-python",
   "name": "python",
   "nbconvert_exporter": "python",
   "pygments_lexer": "ipython3",
   "version": "3.6.3"
  }
 },
 "nbformat": 4,
 "nbformat_minor": 2
}
